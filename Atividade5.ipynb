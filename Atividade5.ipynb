{
 "cells": [
  {
   "cell_type": "code",
   "execution_count": 52,
   "metadata": {},
   "outputs": [],
   "source": [
    "import pandas as pd\n",
    "import numpy as np\n",
    "from scipy.stats import norm\n",
    "from scipy.stats import chi2\n",
    "from scipy.stats import binom\n",
    "import matplotlib.pyplot as plt"
   ]
  },
  {
   "cell_type": "markdown",
   "metadata": {},
   "source": [
    "Ditribuição normal\n",
    "\n",
    "\n",
    "Para uma distribuição normal reduzida (média=0 e desvio-padrão=1) calcule:"
   ]
  },
  {
   "cell_type": "code",
   "execution_count": 23,
   "metadata": {},
   "outputs": [
    {
     "data": {
      "text/plain": [
       "0.5"
      ]
     },
     "execution_count": 23,
     "metadata": {},
     "output_type": "execute_result"
    }
   ],
   "source": [
    "#a)\n",
    "norm.cdf(0,0,1)"
   ]
  },
  {
   "cell_type": "code",
   "execution_count": 25,
   "metadata": {},
   "outputs": [
    {
     "data": {
      "text/plain": [
       "0.0013498980316301035"
      ]
     },
     "execution_count": 25,
     "metadata": {},
     "output_type": "execute_result"
    }
   ],
   "source": [
    "#b)\n",
    "1- norm.cdf(3,0,1)"
   ]
  },
  {
   "cell_type": "code",
   "execution_count": 27,
   "metadata": {},
   "outputs": [
    {
     "data": {
      "text/plain": [
       "0.9973002039367398"
      ]
     },
     "execution_count": 27,
     "metadata": {},
     "output_type": "execute_result"
    }
   ],
   "source": [
    "#c)\n",
    "norm.cdf(3,0,1) - norm.cdf(-3,0,1)"
   ]
  },
  {
   "cell_type": "markdown",
   "metadata": {},
   "source": [
    "Calcule o valor de x para uma distribuição normal reduzida que satisfaça:"
   ]
  },
  {
   "cell_type": "code",
   "execution_count": 30,
   "metadata": {},
   "outputs": [
    {
     "data": {
      "text/plain": [
       "0.0"
      ]
     },
     "execution_count": 30,
     "metadata": {},
     "output_type": "execute_result"
    }
   ],
   "source": [
    "#a)\n",
    "norm.ppf(0.5,0,1)"
   ]
  },
  {
   "cell_type": "code",
   "execution_count": 34,
   "metadata": {},
   "outputs": [
    {
     "data": {
      "text/plain": [
       "3.0"
      ]
     },
     "execution_count": 34,
     "metadata": {},
     "output_type": "execute_result"
    }
   ],
   "source": [
    "#b)\n",
    "round(norm.ppf((1-0.00135),0,1))"
   ]
  },
  {
   "cell_type": "code",
   "execution_count": 35,
   "metadata": {},
   "outputs": [
    {
     "data": {
      "text/plain": [
       "(-3.0, 3.0)"
      ]
     },
     "execution_count": 35,
     "metadata": {},
     "output_type": "execute_result"
    }
   ],
   "source": [
    "#c)\n",
    "round(norm.ppf((1-0.9973)/2,0,1)),round(norm.ppf(0.9973+(1-0.9973)/2,0,1))"
   ]
  },
  {
   "cell_type": "markdown",
   "metadata": {},
   "source": [
    "Para uma distribuição normal com média=5 e desvio-padrão=2 calcule:"
   ]
  },
  {
   "cell_type": "code",
   "execution_count": 37,
   "metadata": {},
   "outputs": [
    {
     "data": {
      "text/plain": [
       "0.5"
      ]
     },
     "execution_count": 37,
     "metadata": {},
     "output_type": "execute_result"
    }
   ],
   "source": [
    "#a)\n",
    "norm.cdf(5,5,2)"
   ]
  },
  {
   "cell_type": "code",
   "execution_count": 38,
   "metadata": {},
   "outputs": [
    {
     "data": {
      "text/plain": [
       "0.0013498980316301035"
      ]
     },
     "execution_count": 38,
     "metadata": {},
     "output_type": "execute_result"
    }
   ],
   "source": [
    "#b)\n",
    "1-norm.cdf(11,5,2)"
   ]
  },
  {
   "cell_type": "markdown",
   "metadata": {},
   "source": [
    "Encontre a função que gera valores aleatórios de uma distribuição normal com média=5 e desvio-\n",
    "padrão=2 e gere uma lista com 20 amostras de tamanho n=8."
   ]
  },
  {
   "cell_type": "code",
   "execution_count": 50,
   "metadata": {},
   "outputs": [
    {
     "data": {
      "text/plain": [
       "array([[[ 6.60350926,  6.16473886,  1.34486972,  3.89541411,\n",
       "          6.92145197,  6.93323862,  4.37803869,  7.06842046]],\n",
       "\n",
       "       [[ 3.5823878 ,  3.2609245 ,  3.82775707,  5.0695631 ,\n",
       "          5.17510327,  2.77784971,  4.16223129,  3.71152605]],\n",
       "\n",
       "       [[ 3.52040642,  7.77338302,  2.26721256,  4.79163593,\n",
       "         10.48100836,  3.82567849,  3.31053719,  2.01051887]],\n",
       "\n",
       "       [[ 1.17543107,  4.41872545,  4.65769054,  5.12943652,\n",
       "          2.06173017,  2.27894504,  5.46894989,  1.25764139]],\n",
       "\n",
       "       [[ 7.90824678,  5.10086726,  0.27411815,  7.74360725,\n",
       "          4.94593175,  3.60456858,  7.4933032 ,  5.08162098]],\n",
       "\n",
       "       [[ 5.03567141,  5.27631278,  4.23528281,  5.42669831,\n",
       "          7.20598303,  5.94033296,  2.13459003,  5.47598945]],\n",
       "\n",
       "       [[ 5.7939976 ,  6.9718221 ,  2.45265719,  2.63178218,\n",
       "          2.92341172,  6.19333481,  5.96700692,  5.03537452]],\n",
       "\n",
       "       [[ 1.01278563,  4.04686245,  3.13532115,  5.79204315,\n",
       "          2.52743668,  4.97641585,  7.71461657,  3.55618168]],\n",
       "\n",
       "       [[ 3.402484  ,  4.5454155 ,  2.82554442,  0.52886765,\n",
       "          7.90452575,  4.61470453,  6.17686422,  4.1366357 ]],\n",
       "\n",
       "       [[ 2.94647918, 10.59367592,  5.84389451,  7.75809971,\n",
       "          2.50054933,  7.4205709 ,  4.0450508 ,  2.21944063]],\n",
       "\n",
       "       [[ 6.80505456,  5.68669831,  6.39640013,  6.74964535,\n",
       "          0.65167182,  5.33751902,  5.88748145,  5.85691435]],\n",
       "\n",
       "       [[ 1.55319193,  8.01330561,  6.92497189,  5.14459055,\n",
       "          6.44762877,  3.80516756,  1.61258481,  8.16607906]],\n",
       "\n",
       "       [[ 3.75024995,  3.43790916,  5.61347672,  5.88811254,\n",
       "          5.43142582,  5.80757955,  5.00762181,  3.57870784]],\n",
       "\n",
       "       [[ 1.33996715,  6.68628315,  0.79052688,  8.04578332,\n",
       "          3.17964036,  4.22705701,  5.83047547,  8.7424234 ]],\n",
       "\n",
       "       [[ 7.10215198,  3.64435519,  5.76389267,  4.04637231,\n",
       "          5.32240553,  6.04621689,  5.36665884,  3.46662304]],\n",
       "\n",
       "       [[ 3.45265707,  3.88848424,  3.68871534,  1.97246793,\n",
       "          5.79406673,  4.43389024,  7.46073261,  3.17774171]],\n",
       "\n",
       "       [[ 4.83816835,  5.49712257,  6.17678206,  3.6569188 ,\n",
       "          3.2999066 ,  6.98119964,  1.55393816,  7.24838986]],\n",
       "\n",
       "       [[ 2.28883306,  7.6615947 ,  5.61081018,  3.6350676 ,\n",
       "          5.4538677 ,  5.33732593,  5.47424402,  2.17393301]],\n",
       "\n",
       "       [[ 8.49108821,  3.05875616,  4.72715733,  6.81524429,\n",
       "          4.68528793,  3.79973732,  6.067783  ,  1.83097673]],\n",
       "\n",
       "       [[ 5.75381209,  2.92906236,  7.87729926,  2.8780464 ,\n",
       "          4.60569307,  7.63170378,  5.15996723,  3.36681847]]])"
      ]
     },
     "execution_count": 50,
     "metadata": {},
     "output_type": "execute_result"
    }
   ],
   "source": [
    "amostras = np.random.normal(5,2,size=(20,1,8))\n",
    "amostras"
   ]
  },
  {
   "cell_type": "markdown",
   "metadata": {},
   "source": [
    "Distribuição qui-quadrado\n",
    "\n",
    "Para uma distribuição qui-quadrado com n graus de liberdade (χ2n). Calcule:"
   ]
  },
  {
   "cell_type": "code",
   "execution_count": 61,
   "metadata": {},
   "outputs": [
    {
     "data": {
      "text/plain": [
       "0.6937810815867212"
      ]
     },
     "execution_count": 61,
     "metadata": {},
     "output_type": "execute_result"
    }
   ],
   "source": [
    "#a)\n",
    "chi2.cdf(6,5)"
   ]
  },
  {
   "cell_type": "code",
   "execution_count": 63,
   "metadata": {},
   "outputs": [
    {
     "data": {
      "text/plain": [
       "0.07523524614651222"
      ]
     },
     "execution_count": 63,
     "metadata": {},
     "output_type": "execute_result"
    }
   ],
   "source": [
    "#b)\n",
    "1- chi2.cdf(10,5)"
   ]
  },
  {
   "cell_type": "markdown",
   "metadata": {},
   "source": [
    "Calcule x para :"
   ]
  },
  {
   "cell_type": "code",
   "execution_count": 66,
   "metadata": {},
   "outputs": [
    {
     "data": {
      "text/plain": [
       "6.0"
      ]
     },
     "execution_count": 66,
     "metadata": {},
     "output_type": "execute_result"
    }
   ],
   "source": [
    "#a)\n",
    "round(chi2.ppf(0.69378,5))"
   ]
  },
  {
   "cell_type": "code",
   "execution_count": 68,
   "metadata": {},
   "outputs": [
    {
     "data": {
      "text/plain": [
       "10.0"
      ]
     },
     "execution_count": 68,
     "metadata": {},
     "output_type": "execute_result"
    }
   ],
   "source": [
    "#b)\n",
    "round(chi2.ppf(1-0.07524,5))"
   ]
  },
  {
   "cell_type": "markdown",
   "metadata": {},
   "source": [
    "Probabilidade binomial\n",
    "\n",
    "Exercícios:"
   ]
  },
  {
   "cell_type": "markdown",
   "metadata": {},
   "source": [
    "1) Traçar a curva da função de distribuição de probabilidade da binomial para n=20 e p=0,1\n",
    "com d variando de 0 a 20;"
   ]
  },
  {
   "cell_type": "code",
   "execution_count": 78,
   "metadata": {},
   "outputs": [
    {
     "data": {
      "image/png": "[encoded data removed]",
      "text/plain": [
       "<Figure size 432x288 with 1 Axes>"
      ]
     },
     "metadata": {
      "needs_background": "light"
     },
     "output_type": "display_data"
    }
   ],
   "source": [
    "x = binom.pmf(range(20),20,0.1)\n",
    "plt.plot(x);"
   ]
  },
  {
   "cell_type": "markdown",
   "metadata": {},
   "source": [
    "2) Traçar a curva da função de distribuição de probabilidade acumulada da binomial para n=20\n",
    "e p=0,1 com d variando de0 a 20;"
   ]
  },
  {
   "cell_type": "code",
   "execution_count": 80,
   "metadata": {},
   "outputs": [
    {
     "data": {
      "image/png": "[encoded data removed]",
      "text/plain": [
       "<Figure size 432x288 with 1 Axes>"
      ]
     },
     "metadata": {
      "needs_background": "light"
     },
     "output_type": "display_data"
    }
   ],
   "source": [
    "x = binom.cdf(range(20),20,0.1)\n",
    "plt.plot(x);"
   ]
  },
  {
   "cell_type": "markdown",
   "metadata": {},
   "source": [
    "3) Traçar a curva característica de operação para a binomial com n=20 e d0=3, isto é, a curva da\n",
    "função de distribuição de probabilidade acumulada variando p de 0% a 50%"
   ]
  },
  {
   "cell_type": "code",
   "execution_count": 87,
   "metadata": {},
   "outputs": [
    {
     "data": {
      "image/png": "[encoded data removed]",
      "text/plain": [
       "<Figure size 432x288 with 1 Axes>"
      ]
     },
     "metadata": {
      "needs_background": "light"
     },
     "output_type": "display_data"
    }
   ],
   "source": [
    "x = binom.cdf(3,20,np.arange(0,0.5,0.025))\n",
    "plt.plot(x);"
   ]
  },
  {
   "cell_type": "markdown",
   "metadata": {},
   "source": [
    "4) Determinar o menor n e correspondente d0, cuja curva característica de operação atenda as\n",
    "seguintes condições:"
   ]
  },
  {
   "cell_type": "code",
   "execution_count": 141,
   "metadata": {},
   "outputs": [
    {
     "data": {
      "text/html": [
       "<div>\n",
       "<style scoped>\n",
       "    .dataframe tbody tr th:only-of-type {\n",
       "        vertical-align: middle;\n",
       "    }\n",
       "\n",
       "    .dataframe tbody tr th {\n",
       "        vertical-align: top;\n",
       "    }\n",
       "\n",
       "    .dataframe thead th {\n",
       "        text-align: right;\n",
       "    }\n",
       "</style>\n",
       "<table border=\"1\" class=\"dataframe\">\n",
       "  <thead>\n",
       "    <tr style=\"text-align: right;\">\n",
       "      <th></th>\n",
       "      <th>Valores de N</th>\n",
       "      <th>Valores de D</th>\n",
       "    </tr>\n",
       "  </thead>\n",
       "  <tbody>\n",
       "    <tr>\n",
       "      <th>0</th>\n",
       "      <td>99</td>\n",
       "      <td>3</td>\n",
       "    </tr>\n",
       "  </tbody>\n",
       "</table>\n",
       "</div>"
      ],
      "text/plain": [
       "   Valores de N  Valores de D\n",
       "0            99             3"
      ]
     },
     "execution_count": 141,
     "metadata": {},
     "output_type": "execute_result"
    }
   ],
   "source": [
    "#a)p=1,5% prob>0.93\n",
    "#b)p=7% prob<0.08\n",
    "lista_n = []\n",
    "lista_d= []\n",
    "\n",
    "n=1\n",
    "while n<500:\n",
    "    \n",
    "    d=1\n",
    "    while d<500:\n",
    "        x = binom.cdf(d,n,0.015)\n",
    "        y = binom.cdf(d,n,0.07)\n",
    "        \n",
    "        if x > 0.93 and y < 0.08:\n",
    "            lista_n.append(n)\n",
    "            lista_d.append(d)            \n",
    "        d+=1    \n",
    "    n+=1\n",
    "\n",
    "testes = pd.DataFrame()\n",
    "testes.insert(loc=0,column='Valores de N',value=lista_n)\n",
    "testes.insert(loc=1,column='Valores de D',value=lista_d)\n",
    "\n",
    "menor_n = testes['Valores de N'].min()\n",
    "\n",
    "minimo_encontrado = testes.loc[testes['Valores de N'] == menor_n]\n",
    "minimo_encontrado"
   ]
  }
 ],
 "metadata": {
  "kernelspec": {
   "display_name": "Python 3",
   "language": "python",
   "name": "python3"
  },
  "language_info": {
   "codemirror_mode": {
    "name": "ipython",
    "version": 3
   },
   "file_extension": ".py",
   "mimetype": "text/x-python",
   "name": "python",
   "nbconvert_exporter": "python",
   "pygments_lexer": "ipython3",
   "version": "3.7.6"
  }
 },
 "nbformat": 4,
 "nbformat_minor": 4
}
